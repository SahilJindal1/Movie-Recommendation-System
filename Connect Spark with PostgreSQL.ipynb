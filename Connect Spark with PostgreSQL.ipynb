{
 "cells": [
  {
   "cell_type": "code",
   "execution_count": 2,
   "id": "3f46ee9f",
   "metadata": {},
   "outputs": [],
   "source": [
    "from pyspark.sql import SparkSession\n",
    "from collections import defaultdict"
   ]
  },
  {
   "cell_type": "code",
   "execution_count": 3,
   "id": "2976532b",
   "metadata": {},
   "outputs": [
    {
     "name": "stdout",
     "output_type": "stream",
     "text": [
      "22/11/18 18:30:49 WARN Utils: Your hostname, avani-HP resolves to a loopback address: 127.0.1.1; using 192.168.0.41 instead (on interface wlo1)\n",
      "22/11/18 18:30:49 WARN Utils: Set SPARK_LOCAL_IP if you need to bind to another address\n",
      "22/11/18 18:30:50 WARN NativeCodeLoader: Unable to load native-hadoop library for your platform... using builtin-java classes where applicable\n"
     ]
    },
    {
     "name": "stderr",
     "output_type": "stream",
     "text": [
      "Setting default log level to \"WARN\".\n",
      "To adjust logging level use sc.setLogLevel(newLevel). For SparkR, use setLogLevel(newLevel).\n"
     ]
    },
    {
     "name": "stdout",
     "output_type": "stream",
     "text": [
      "22/11/18 18:30:53 WARN Utils: Service 'SparkUI' could not bind on port 4040. Attempting port 4041.\n"
     ]
    }
   ],
   "source": [
    "# instantiate the Spark session\n",
    "\n",
    "spark = SparkSession \\\n",
    "        .builder \\\n",
    "        .appName(\"Connecting Spark with PostgreSQL\") \\\n",
    "        .config(\"spark.jars\", \"/home/avani/UMass/Fall 2022/CS 532/Project/postgresql-42.5.0.jar\") \\\n",
    "        .getOrCreate()"
   ]
  },
  {
   "cell_type": "code",
   "execution_count": 4,
   "id": "eb434531",
   "metadata": {},
   "outputs": [],
   "source": [
    "tables_list = ['movies', 'ratings', 'tags', 'links', 'genome_tags', 'genome_scores']\n",
    "\n",
    "dataframeList = {} #defaultdict(None)\n",
    "\n",
    "for table in tables_list:\n",
    "\n",
    "    dataframeList[table] = spark.read.format(\"jdbc\"). \\\n",
    "                            options(\n",
    "                             url = 'jdbc:postgresql://localhost:5432/movielens_dataset', # using jdbc:postgresql://<host>:<port>/<database>\n",
    "                             dbtable = table,\n",
    "                             user = 'postgres',\n",
    "                             password = 'postgres',\n",
    "                             driver = 'org.postgresql.Driver').\\\n",
    "                            load()"
   ]
  },
  {
   "cell_type": "code",
   "execution_count": 5,
   "id": "b29c34c7",
   "metadata": {},
   "outputs": [
    {
     "name": "stdout",
     "output_type": "stream",
     "text": [
      "movies table\n",
      "root\n",
      " |-- movieid: integer (nullable = true)\n",
      " |-- title: string (nullable = true)\n",
      " |-- genres: string (nullable = true)\n",
      "\n",
      "None\n",
      "ratings table\n",
      "root\n",
      " |-- userid: integer (nullable = true)\n",
      " |-- movieid: integer (nullable = true)\n",
      " |-- rating: decimal(38,18) (nullable = true)\n",
      " |-- timestamp: integer (nullable = true)\n",
      "\n",
      "None\n",
      "tags table\n",
      "root\n",
      " |-- userid: integer (nullable = true)\n",
      " |-- movieid: integer (nullable = true)\n",
      " |-- tag: string (nullable = true)\n",
      " |-- timestamp: integer (nullable = true)\n",
      "\n",
      "None\n",
      "links table\n",
      "root\n",
      " |-- movieid: integer (nullable = true)\n",
      " |-- imdbid: integer (nullable = true)\n",
      " |-- tmdbid: integer (nullable = true)\n",
      "\n",
      "None\n",
      "genome_tags table\n",
      "root\n",
      " |-- tagid: integer (nullable = true)\n",
      " |-- tag: string (nullable = true)\n",
      "\n",
      "None\n",
      "genome_scores table\n",
      "root\n",
      " |-- movieid: integer (nullable = true)\n",
      " |-- tagid: integer (nullable = true)\n",
      " |-- relevance: decimal(38,18) (nullable = true)\n",
      "\n",
      "None\n"
     ]
    }
   ],
   "source": [
    "for key, value in dataframeList.items():\n",
    "    print(key + \" table\")\n",
    "    print(value.printSchema())"
   ]
  },
  {
   "cell_type": "code",
   "execution_count": null,
   "id": "c8edd79d",
   "metadata": {},
   "outputs": [],
   "source": []
  }
 ],
 "metadata": {
  "kernelspec": {
   "display_name": "Python 3",
   "language": "python",
   "name": "python3"
  },
  "language_info": {
   "codemirror_mode": {
    "name": "ipython",
    "version": 3
   },
   "file_extension": ".py",
   "mimetype": "text/x-python",
   "name": "python",
   "nbconvert_exporter": "python",
   "pygments_lexer": "ipython3",
   "version": "3.10.6"
  }
 },
 "nbformat": 4,
 "nbformat_minor": 5
}
