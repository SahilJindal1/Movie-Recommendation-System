{
 "cells": [
  {
   "cell_type": "code",
   "execution_count": 1,
   "id": "3f46ee9f",
   "metadata": {},
   "outputs": [],
   "source": [
    "from pyspark.sql import SparkSession\n",
    "from pyspark.sql.types import *\n",
    "from pyspark.sql.functions import col, mean, udf, lit, current_timestamp, unix_timestamp, array_contains\n",
    "#from pyspark.sql.types import IntegerType, FloatType\n",
    "\n",
    "import pandas as pd\n",
    "import math\n",
    "import mlflow\n",
    "import os"
   ]
  },
  {
   "cell_type": "code",
   "execution_count": 2,
   "id": "2976532b",
   "metadata": {},
   "outputs": [
    {
     "name": "stdout",
     "output_type": "stream",
     "text": [
      "22/12/03 02:14:31 WARN Utils: Your hostname, avani-HP resolves to a loopback address: 127.0.1.1; using 192.168.0.9 instead (on interface wlo1)\n",
      "22/12/03 02:14:31 WARN Utils: Set SPARK_LOCAL_IP if you need to bind to another address\n",
      "22/12/03 02:14:32 WARN NativeCodeLoader: Unable to load native-hadoop library for your platform... using builtin-java classes where applicable\n"
     ]
    },
    {
     "name": "stderr",
     "output_type": "stream",
     "text": [
      "Setting default log level to \"WARN\".\n",
      "To adjust logging level use sc.setLogLevel(newLevel). For SparkR, use setLogLevel(newLevel).\n"
     ]
    }
   ],
   "source": [
    "# instantiate the Spark session\n",
    "\n",
    "from pyspark.conf import SparkConf\n",
    "\n",
    "sparkConf = SparkConf()\n",
    "sparkConf.setAppName(\"My app\").set(\"spark.jars\", \"/home/avani/UMass/Fall 2022/CS 532/Project/postgresql-42.5.0.jar\")\n",
    "sparkConf.set(\"spark.dynamicAllocation.enabled\", \"true\")\n",
    "sparkConf.set(\"spark.executor.cores\", 8)\n",
    "sparkConf.set(\"spark.dynamicAllocation.minExecutors\",\"1\")\n",
    "sparkConf.set(\"spark.dynamicAllocation.maxExecutors\",\"5000\")\n",
    "sparkConf.set(\"spark.executor.memory\", \"32g\")\n",
    "sparkConf.set(\"spark.ui.port\",\"4050\")\n",
    "sparkConf.set(\"spark.memory.fraction\", 0.7)\n",
    "\n",
    "spark = SparkSession.builder.master('local[*]').config(conf=sparkConf).getOrCreate()"
   ]
  },
  {
   "cell_type": "code",
   "execution_count": 3,
   "id": "eb434531",
   "metadata": {},
   "outputs": [],
   "source": [
    "tables_list = ['movies', 'ratings', 'tags', 'links', 'genome_tags', 'genome_scores']\n",
    "\n",
    "dataframeList = {} #defaultdict(None)\n",
    "\n",
    "for table in tables_list:\n",
    "\n",
    "    if table == 'ratings':\n",
    "        dataframeList[table] = spark.read.format(\"jdbc\"). \\\n",
    "                                options(\n",
    "                                 url = 'jdbc:postgresql://localhost:5432/movielens_dataset', # using jdbc:postgresql://<host>:<port>/<database>\n",
    "                                 dbtable = table,\n",
    "                                 user = 'postgres',\n",
    "                                 password = 'postgres',\n",
    "                                 driver = 'org.postgresql.Driver',\n",
    "                                 fetchSize = 1000,\n",
    "                                 partitionColumn = \"userId\",\n",
    "                                 lowerBound = 1,\n",
    "                                 upperBound = 283228,\n",
    "                                 numPartitions = 32).\\\n",
    "                                load()\n",
    "    else:\n",
    "        dataframeList[table] = spark.read.format(\"jdbc\"). \\\n",
    "                                options(\n",
    "                                 url = 'jdbc:postgresql://localhost:5432/movielens_dataset', # using jdbc:postgresql://<host>:<port>/<database>\n",
    "                                 dbtable = table,\n",
    "                                 user = 'postgres',\n",
    "                                 password = 'postgres',\n",
    "                                 driver = 'org.postgresql.Driver').\\\n",
    "                                load()"
   ]
  },
  {
   "cell_type": "code",
   "execution_count": 4,
   "id": "b29c34c7",
   "metadata": {},
   "outputs": [
    {
     "name": "stdout",
     "output_type": "stream",
     "text": [
      "movies table\n",
      "root\n",
      " |-- movieid: integer (nullable = true)\n",
      " |-- title: string (nullable = true)\n",
      " |-- genres: string (nullable = true)\n",
      "\n",
      "None\n",
      "ratings table\n",
      "root\n",
      " |-- userid: integer (nullable = true)\n",
      " |-- movieid: integer (nullable = true)\n",
      " |-- rating: decimal(38,18) (nullable = true)\n",
      " |-- timestamp: integer (nullable = true)\n",
      "\n",
      "None\n",
      "tags table\n",
      "root\n",
      " |-- userid: integer (nullable = true)\n",
      " |-- movieid: integer (nullable = true)\n",
      " |-- tag: string (nullable = true)\n",
      " |-- timestamp: integer (nullable = true)\n",
      "\n",
      "None\n",
      "links table\n",
      "root\n",
      " |-- movieid: integer (nullable = true)\n",
      " |-- imdbid: integer (nullable = true)\n",
      " |-- tmdbid: integer (nullable = true)\n",
      "\n",
      "None\n",
      "genome_tags table\n",
      "root\n",
      " |-- tagid: integer (nullable = true)\n",
      " |-- tag: string (nullable = true)\n",
      "\n",
      "None\n",
      "genome_scores table\n",
      "root\n",
      " |-- movieid: integer (nullable = true)\n",
      " |-- tagid: integer (nullable = true)\n",
      " |-- relevance: decimal(38,18) (nullable = true)\n",
      "\n",
      "None\n"
     ]
    }
   ],
   "source": [
    "for key, value in dataframeList.items():\n",
    "    print(key + \" table\")\n",
    "    print(value.printSchema())"
   ]
  },
  {
   "cell_type": "code",
   "execution_count": 5,
   "id": "885f9647",
   "metadata": {},
   "outputs": [],
   "source": [
    "movies_df = dataframeList['movies']\n",
    "ratings_df = dataframeList['ratings']\n",
    "links_df = dataframeList['links']\n",
    "tags_df = dataframeList['tags']"
   ]
  },
  {
   "cell_type": "markdown",
   "id": "89930d87",
   "metadata": {},
   "source": [
    "### Show the dataframes and make the lifetime of dataframes sames as spark session"
   ]
  },
  {
   "cell_type": "code",
   "execution_count": 6,
   "id": "461c67fd",
   "metadata": {},
   "outputs": [
    {
     "name": "stderr",
     "output_type": "stream",
     "text": [
      "\r",
      "[Stage 0:>                                                          (0 + 1) / 1]\r"
     ]
    },
    {
     "name": "stdout",
     "output_type": "stream",
     "text": [
      "+-------+--------------------+--------------------+\n",
      "|movieid|               title|              genres|\n",
      "+-------+--------------------+--------------------+\n",
      "|    346|     Backbeat (1993)|       Drama|Musical|\n",
      "|    454|    Firm, The (1993)|      Drama|Thriller|\n",
      "|    564|      Chasers (1994)|              Comedy|\n",
      "|      1|    Toy Story (1995)|Adventure|Animati...|\n",
      "|      2|      Jumanji (1995)|Adventure|Childre...|\n",
      "|      3|Grumpier Old Men ...|      Comedy|Romance|\n",
      "|      4|Waiting to Exhale...|Comedy|Drama|Romance|\n",
      "|      5|Father of the Bri...|              Comedy|\n",
      "|      6|         Heat (1995)|Action|Crime|Thri...|\n",
      "|      7|      Sabrina (1995)|      Comedy|Romance|\n",
      "|      8| Tom and Huck (1995)|  Adventure|Children|\n",
      "|      9| Sudden Death (1995)|              Action|\n",
      "|     10|    GoldenEye (1995)|Action|Adventure|...|\n",
      "|     11|American Presiden...|Comedy|Drama|Romance|\n",
      "|     12|Dracula: Dead and...|       Comedy|Horror|\n",
      "|     13|        Balto (1995)|Adventure|Animati...|\n",
      "|     14|        Nixon (1995)|               Drama|\n",
      "|     15|Cutthroat Island ...|Action|Adventure|...|\n",
      "|     16|       Casino (1995)|         Crime|Drama|\n",
      "|     17|Sense and Sensibi...|       Drama|Romance|\n",
      "+-------+--------------------+--------------------+\n",
      "only showing top 20 rows\n",
      "\n"
     ]
    },
    {
     "name": "stderr",
     "output_type": "stream",
     "text": [
      "\r",
      "                                                                                \r"
     ]
    }
   ],
   "source": [
    "movies_df.show(20)\n",
    "movies_df.createOrReplaceTempView(\"movies_df\")"
   ]
  },
  {
   "cell_type": "code",
   "execution_count": 7,
   "id": "d927abde",
   "metadata": {},
   "outputs": [
    {
     "name": "stderr",
     "output_type": "stream",
     "text": [
      "\r",
      "[Stage 1:>                                                          (0 + 1) / 1]\r"
     ]
    },
    {
     "name": "stdout",
     "output_type": "stream",
     "text": [
      "+------+-------+--------------------+----------+\n",
      "|userid|movieid|              rating| timestamp|\n",
      "+------+-------+--------------------+----------+\n",
      "|   248|   1391|2.000000000000000000|1511187399|\n",
      "|    73|   1230|4.500000000000000000|1437673250|\n",
      "|    73|   1235|4.000000000000000000|1437671937|\n",
      "|    73|   1237|4.000000000000000000|1437673718|\n",
      "|    73|   1240|4.000000000000000000|1437836138|\n",
      "|    73|   1244|5.000000000000000000|1437673251|\n",
      "|    73|   1245|3.500000000000000000|1437673106|\n",
      "|    73|   1246|4.000000000000000000|1437836025|\n",
      "|    73|   1247|4.500000000000000000|1437673759|\n",
      "|    73|   1248|4.000000000000000000|1437673640|\n",
      "|    73|   1250|4.500000000000000000|1437671809|\n",
      "|    73|   1252|4.000000000000000000|1437671836|\n",
      "|    73|   1254|4.500000000000000000|1437671823|\n",
      "|    73|   1258|4.500000000000000000|1437671985|\n",
      "|    73|   1259|4.500000000000000000|1438015737|\n",
      "|    73|   1265|3.500000000000000000|1437720392|\n",
      "|    73|   1270|4.000000000000000000|1437836189|\n",
      "|    73|   1273|4.000000000000000000|1437673872|\n",
      "|    73|   1276|4.000000000000000000|1437671772|\n",
      "|    73|   1278|3.000000000000000000|1438042770|\n",
      "+------+-------+--------------------+----------+\n",
      "only showing top 20 rows\n",
      "\n"
     ]
    },
    {
     "name": "stderr",
     "output_type": "stream",
     "text": [
      "\r",
      "                                                                                \r"
     ]
    }
   ],
   "source": [
    "ratings_df.show(20)\n",
    "ratings_df.createOrReplaceTempView(\"ratings_df\")"
   ]
  },
  {
   "cell_type": "code",
   "execution_count": 8,
   "id": "7269a5d8",
   "metadata": {},
   "outputs": [
    {
     "name": "stdout",
     "output_type": "stream",
     "text": [
      "+-------+------+------+\n",
      "|movieid|imdbid|tmdbid|\n",
      "+-------+------+------+\n",
      "|      1|114709|   862|\n",
      "|      2|113497|  8844|\n",
      "|      3|113228| 15602|\n",
      "|      4|114885| 31357|\n",
      "|      5|113041| 11862|\n",
      "|      6|113277|   949|\n",
      "|      7|114319| 11860|\n",
      "|      8|112302| 45325|\n",
      "|      9|114576|  9091|\n",
      "|     10|113189|   710|\n",
      "|     11|112346|  9087|\n",
      "|     12|112896| 12110|\n",
      "|     13|112453| 21032|\n",
      "|     14|113987| 10858|\n",
      "|     15|112760|  1408|\n",
      "|     16|112641|   524|\n",
      "|     17|114388|  4584|\n",
      "|     18|113101|     5|\n",
      "|     19|112281|  9273|\n",
      "|     20|113845| 11517|\n",
      "+-------+------+------+\n",
      "only showing top 20 rows\n",
      "\n"
     ]
    }
   ],
   "source": [
    "links_df.show(20)\n",
    "links_df.createOrReplaceTempView(\"links_df\")"
   ]
  },
  {
   "cell_type": "code",
   "execution_count": 9,
   "id": "b31ab98f",
   "metadata": {},
   "outputs": [
    {
     "name": "stderr",
     "output_type": "stream",
     "text": [
      "\r",
      "[Stage 3:>                                                          (0 + 1) / 1]\r"
     ]
    },
    {
     "name": "stdout",
     "output_type": "stream",
     "text": [
      "+------+-------+--------------+----------+\n",
      "|userid|movieid|           tag| timestamp|\n",
      "+------+-------+--------------+----------+\n",
      "|    14|    110|          epic|1443148538|\n",
      "|    14|    110|      Medieval|1443148532|\n",
      "|    14|    260|        sci-fi|1442169410|\n",
      "|    14|    260|  space action|1442169421|\n",
      "|    14|    318|  imdb top 250|1442615195|\n",
      "|    14|    318|       justice|1442615192|\n",
      "|    14|    480|     Dinosaurs|1443148563|\n",
      "|    14|    593|psychothriller|1444014286|\n",
      "|    14|   1682|    philosophy|1442615158|\n",
      "|    14|   1682|  surveillance|1442615167|\n",
      "|    14|   7458|          Epic|1443148675|\n",
      "|    14|  95311|         Pixar|1443148494|\n",
      "|    14| 117529|     dinosaurs|1443148646|\n",
      "|    27|    260|classic sci-fi|1440448113|\n",
      "|    27|    260| Harrison Ford|1440448123|\n",
      "|    27|    260|      must see|1440448132|\n",
      "|    27|    260|        sci-fi|1440448094|\n",
      "|    42|  37733| disappointing|1264106059|\n",
      "|    42|  37733|     overrated|1264106052|\n",
      "|    42|  37733|        stupid|1264106067|\n",
      "+------+-------+--------------+----------+\n",
      "only showing top 20 rows\n",
      "\n"
     ]
    },
    {
     "name": "stderr",
     "output_type": "stream",
     "text": [
      "\r",
      "                                                                                \r"
     ]
    }
   ],
   "source": [
    "tags_df.show(20)\n",
    "tags_df.createOrReplaceTempView(\"tags_df\")"
   ]
  },
  {
   "cell_type": "markdown",
   "id": "d386f6e1",
   "metadata": {},
   "source": [
    "### Registering the dataframes to spark "
   ]
  },
  {
   "cell_type": "code",
   "execution_count": 10,
   "id": "85adb7bb",
   "metadata": {},
   "outputs": [
    {
     "name": "stderr",
     "output_type": "stream",
     "text": [
      "/home/avani/.local/lib/python3.10/site-packages/pyspark/sql/dataframe.py:229: FutureWarning: Deprecated in 2.0, use createOrReplaceTempView instead.\n",
      "  warnings.warn(\"Deprecated in 2.0, use createOrReplaceTempView instead.\", FutureWarning)\n"
     ]
    }
   ],
   "source": [
    "movies_df.registerTempTable(\"movies\")\n",
    "ratings_df.registerTempTable(\"ratings\")\n",
    "links_df.registerTempTable(\"links\")\n",
    "tags_df.registerTempTable(\"tags\")"
   ]
  },
  {
   "cell_type": "markdown",
   "id": "83ee103c",
   "metadata": {},
   "source": [
    "### Analyse the data"
   ]
  },
  {
   "cell_type": "code",
   "execution_count": 11,
   "id": "ae75c29d",
   "metadata": {},
   "outputs": [
    {
     "name": "stderr",
     "output_type": "stream",
     "text": [
      "                                                                                \r"
     ]
    },
    {
     "name": "stdout",
     "output_type": "stream",
     "text": [
      "Minimum number of ratings per user: 1\n",
      "Minimum number of ratings per movie: 1\n"
     ]
    }
   ],
   "source": [
    "minRating_1 = ratings_df.groupBy(\"userID\").count().toPandas()['count'].min()\n",
    "minRating_2 = ratings_df.groupBy(\"movieId\").count().toPandas()['count'].min()\n",
    "\n",
    "print('Minimum number of ratings per user: {}'.format(minRating_1))\n",
    "print('Minimum number of ratings per movie: {}'.format(minRating_2))"
   ]
  },
  {
   "cell_type": "code",
   "execution_count": 12,
   "id": "5e27d73b",
   "metadata": {},
   "outputs": [
    {
     "name": "stderr",
     "output_type": "stream",
     "text": [
      "[Stage 13:======================================================> (31 + 1) / 32]\r"
     ]
    },
    {
     "name": "stdout",
     "output_type": "stream",
     "text": [
      "movies are rated by only one user: 10155 out of 53889 \n"
     ]
    },
    {
     "name": "stderr",
     "output_type": "stream",
     "text": [
      "\r",
      "                                                                                \r"
     ]
    }
   ],
   "source": [
    "_rating1 = sum(ratings_df.groupBy(\"movieId\").count().toPandas()['count'] == 1)\n",
    "_total = ratings_df.select('movieId').distinct().count()\n",
    "\n",
    "print('movies are rated by only one user: {} out of {} '.format(_rating1, _total))"
   ]
  },
  {
   "cell_type": "code",
   "execution_count": 13,
   "id": "3cd8195f",
   "metadata": {},
   "outputs": [
    {
     "name": "stderr",
     "output_type": "stream",
     "text": [
      "                                                                                \r"
     ]
    },
    {
     "data": {
      "text/plain": [
       "283228"
      ]
     },
     "execution_count": 13,
     "metadata": {},
     "output_type": "execute_result"
    }
   ],
   "source": [
    "# number of distinct users\n",
    "num_users = spark.sql(\"SELECT count (distinct userID) as num_users FROM ratings\")\n",
    "ratings_df.select(\"userId\").distinct().count()"
   ]
  },
  {
   "cell_type": "code",
   "execution_count": 14,
   "id": "175af2f8",
   "metadata": {},
   "outputs": [
    {
     "name": "stderr",
     "output_type": "stream",
     "text": [
      "\r",
      "[Stage 25:>                                                         (0 + 1) / 1]\r"
     ]
    },
    {
     "name": "stdout",
     "output_type": "stream",
     "text": [
      "58098\n"
     ]
    },
    {
     "name": "stderr",
     "output_type": "stream",
     "text": [
      "\r",
      "                                                                                \r"
     ]
    }
   ],
   "source": [
    "# number of movies\n",
    "num_movies = spark.sql(\"SELECT count (distinct movieID) as num_movies FROM movies\")\n",
    "print(movies_df.select('movieID').distinct().count())"
   ]
  },
  {
   "cell_type": "code",
   "execution_count": 15,
   "id": "0adf4671",
   "metadata": {},
   "outputs": [
    {
     "name": "stderr",
     "output_type": "stream",
     "text": [
      "[Stage 31:======================================================> (31 + 1) / 32]\r"
     ]
    },
    {
     "name": "stdout",
     "output_type": "stream",
     "text": [
      "Total Number of movies rated by users: 53889\n"
     ]
    },
    {
     "name": "stderr",
     "output_type": "stream",
     "text": [
      "\r",
      "                                                                                \r"
     ]
    }
   ],
   "source": [
    "rated_by_users = ratings_df.select('movieID').distinct().count()\n",
    "print('Total Number of movies rated by users:', rated_by_users)"
   ]
  },
  {
   "cell_type": "code",
   "execution_count": 16,
   "id": "0d0a78ab",
   "metadata": {},
   "outputs": [
    {
     "name": "stdout",
     "output_type": "stream",
     "text": [
      "+--------------------+\n",
      "|              genres|\n",
      "+--------------------+\n",
      "|Comedy|Horror|Thr...|\n",
      "|Adventure|Sci-Fi|...|\n",
      "|Action|Adventure|...|\n",
      "| Action|Drama|Horror|\n",
      "|Comedy|Drama|Horr...|\n",
      "|Action|Animation|...|\n",
      "|Fantasy|Musical|M...|\n",
      "|Adventure|Mystery...|\n",
      "|Children|Comedy|D...|\n",
      "|Action|Adventure|...|\n",
      "+--------------------+\n",
      "\n"
     ]
    }
   ],
   "source": [
    "# movie genres\n",
    "spark.sql(\"SELECT DISTINCT(genres) FROM movies LIMIT 10\").show()"
   ]
  },
  {
   "cell_type": "code",
   "execution_count": 17,
   "id": "c79f9698",
   "metadata": {},
   "outputs": [
    {
     "data": {
      "text/plain": [
       "DataFrame[movieId: int, title: string, genres: array<string>]"
      ]
     },
     "metadata": {},
     "output_type": "display_data"
    }
   ],
   "source": [
    "extract_genres = udf(lambda x: x.split(\"|\"), ArrayType(StringType()))\n",
    "movies_df_clean = movies_df.select(\"movieId\", \"title\", extract_genres(\"genres\").alias(\"genres\"))\n",
    "\n",
    "movies_df_clean.createOrReplaceTempView(\"movies_df_clean\")\n",
    "\n",
    "display (spark.sql(\"SELECT * FROM movies_df_clean limit 5\"))"
   ]
  },
  {
   "cell_type": "code",
   "execution_count": 18,
   "id": "83c70eb3",
   "metadata": {},
   "outputs": [
    {
     "name": "stderr",
     "output_type": "stream",
     "text": [
      "\r",
      "[Stage 40:>                                                         (0 + 1) / 1]\r"
     ]
    },
    {
     "name": "stdout",
     "output_type": "stream",
     "text": [
      "+-------+----------------+--------------------+\n",
      "|movieId|           title|              genres|\n",
      "+-------+----------------+--------------------+\n",
      "|    346| Backbeat (1993)|    [Drama, Musical]|\n",
      "|    454|Firm, The (1993)|   [Drama, Thriller]|\n",
      "|    564|  Chasers (1994)|            [Comedy]|\n",
      "|      1|Toy Story (1995)|[Adventure, Anima...|\n",
      "|      2|  Jumanji (1995)|[Adventure, Child...|\n",
      "+-------+----------------+--------------------+\n",
      "only showing top 5 rows\n",
      "\n"
     ]
    },
    {
     "name": "stderr",
     "output_type": "stream",
     "text": [
      "\r",
      "                                                                                \r"
     ]
    }
   ],
   "source": [
    "movies_df_clean.show(5)"
   ]
  },
  {
   "cell_type": "code",
   "execution_count": 19,
   "id": "5549a27c",
   "metadata": {},
   "outputs": [
    {
     "name": "stderr",
     "output_type": "stream",
     "text": [
      "                                                                                \r"
     ]
    },
    {
     "data": {
      "text/plain": [
       "['Mystery',\n",
       " 'Adventure',\n",
       " 'Animation',\n",
       " 'Film-Noir',\n",
       " 'Horror',\n",
       " 'Drama',\n",
       " 'Thriller',\n",
       " 'Action',\n",
       " 'Documentary',\n",
       " 'Fantasy',\n",
       " 'Western',\n",
       " 'Musical',\n",
       " 'Comedy',\n",
       " 'Children',\n",
       " 'Sci-Fi',\n",
       " 'War',\n",
       " 'Crime',\n",
       " 'IMAX',\n",
       " '(no genres listed)',\n",
       " 'Romance']"
      ]
     },
     "execution_count": 19,
     "metadata": {},
     "output_type": "execute_result"
    }
   ],
   "source": [
    "# All movie categories\n",
    "genres_result = list(set(movies_df_clean.select('genres').rdd.flatMap(tuple).flatMap(tuple).collect()))\n",
    "genres_result"
   ]
  },
  {
   "cell_type": "code",
   "execution_count": 20,
   "id": "733e9135",
   "metadata": {},
   "outputs": [],
   "source": [
    "movie_pdf = movies_df.toPandas()\n",
    "list_of_movie = list(movie_pdf['title'])"
   ]
  },
  {
   "cell_type": "markdown",
   "id": "eb68f3a6",
   "metadata": {},
   "source": [
    "## Recommender"
   ]
  },
  {
   "cell_type": "code",
   "execution_count": 21,
   "id": "78a2975e",
   "metadata": {},
   "outputs": [],
   "source": [
    "# Data type convert\n",
    "movie_ratings = ratings_df.drop('timestamp')\n",
    "\n",
    "movie_ratings = movie_ratings.withColumn(\"userId\", movie_ratings[\"userId\"].cast(IntegerType()))\n",
    "movie_ratings = movie_ratings.withColumn(\"movieId\", movie_ratings[\"movieId\"].cast(IntegerType()))\n",
    "movie_ratings = movie_ratings.withColumn(\"rating\", movie_ratings[\"rating\"].cast(FloatType()))"
   ]
  },
  {
   "cell_type": "code",
   "execution_count": 22,
   "id": "2daab5b6",
   "metadata": {},
   "outputs": [
    {
     "name": "stderr",
     "output_type": "stream",
     "text": [
      "\r",
      "[Stage 43:>                                                         (0 + 1) / 1]\r"
     ]
    },
    {
     "name": "stdout",
     "output_type": "stream",
     "text": [
      "+------+-------+------+\n",
      "|userId|movieId|rating|\n",
      "+------+-------+------+\n",
      "|   120|   1199|   4.0|\n",
      "|   120|   1204|   3.5|\n",
      "|   120|   1215|   3.0|\n",
      "|   120|   1233|   4.0|\n",
      "|   120|   1544|   4.5|\n",
      "|   120|   2001|   3.0|\n",
      "|   120|   2012|   3.0|\n",
      "|   120|   2321|   3.5|\n",
      "|   120|   3408|   4.0|\n",
      "|   120|   7320|   3.0|\n",
      "|   121|      1|   4.0|\n",
      "|   121|     10|   4.0|\n",
      "|   121|     11|   4.0|\n",
      "|   121|     20|   4.0|\n",
      "|   121|     31|   3.0|\n",
      "|   121|     42|   4.0|\n",
      "|   121|     48|   3.0|\n",
      "|   121|     68|   4.0|\n",
      "|   121|     95|   5.0|\n",
      "|   121|    105|   3.0|\n",
      "|   121|    122|   5.0|\n",
      "|   121|    140|   4.0|\n",
      "|   121|    145|   4.0|\n",
      "|   121|    150|   5.0|\n",
      "|   121|    151|   5.0|\n",
      "|   121|    153|   4.0|\n",
      "|   121|    160|   5.0|\n",
      "|   121|    161|   4.0|\n",
      "|   121|    165|   4.0|\n",
      "|   121|    168|   5.0|\n",
      "|   121|    172|   3.0|\n",
      "|   121|    173|   3.0|\n",
      "|   121|    174|   2.0|\n",
      "|   121|    185|   3.0|\n",
      "|   121|    186|   3.0|\n",
      "|   121|    193|   2.0|\n",
      "|   121|    204|   4.0|\n",
      "|   121|    207|   5.0|\n",
      "|   121|    208|   4.0|\n",
      "|   121|    227|   5.0|\n",
      "|   121|    231|   2.0|\n",
      "|   121|    236|   4.0|\n",
      "|   121|    237|   3.0|\n",
      "|   121|    248|   1.0|\n",
      "|   121|    255|   3.0|\n",
      "|   121|    256|   3.0|\n",
      "|   121|    257|   5.0|\n",
      "|   121|    276|   3.0|\n",
      "|   121|    277|   5.0|\n",
      "|   121|    280|   3.0|\n",
      "+------+-------+------+\n",
      "only showing top 50 rows\n",
      "\n"
     ]
    },
    {
     "name": "stderr",
     "output_type": "stream",
     "text": [
      "\r",
      "                                                                                \r"
     ]
    },
    {
     "data": {
      "text/plain": [
       "DataFrame[userId: int, movieId: int, rating: float]"
      ]
     },
     "metadata": {},
     "output_type": "display_data"
    }
   ],
   "source": [
    "movie_ratings.show(50)\n",
    "movie_ratings.createOrReplaceTempView(\"movie_ratings\")\n",
    "display (spark.sql(\"SELECT * FROM movie_ratings limit 10\"))"
   ]
  },
  {
   "cell_type": "code",
   "execution_count": 23,
   "id": "bf767010",
   "metadata": {},
   "outputs": [
    {
     "name": "stderr",
     "output_type": "stream",
     "text": [
      "\r",
      "[Stage 44:>                                                         (0 + 1) / 1]\r"
     ]
    },
    {
     "name": "stdout",
     "output_type": "stream",
     "text": [
      "+------+-------+------+\n",
      "|userId|movieId|rating|\n",
      "+------+-------+------+\n",
      "|     4|   3717|   4.5|\n",
      "|     4|   7348|   4.5|\n",
      "|     5|   2485|   3.0|\n",
      "|    43|   1942|   4.0|\n",
      "|    43|   2997|   4.5|\n",
      "|    43|   5349|   3.5|\n",
      "|    43|   6003|   4.5|\n",
      "|    45|     39|   1.0|\n",
      "|    48|   3160|   5.0|\n",
      "|    54|    141|   4.0|\n",
      "|    71|   6016|   4.0|\n",
      "|    71|  25771|   4.5|\n",
      "|    73|   1193|   4.0|\n",
      "|    73|   3275|   3.0|\n",
      "|    73|   5746|   4.0|\n",
      "|    79|   1586|   4.0|\n",
      "|    79|   2716|   5.0|\n",
      "|    81|  34319|   3.0|\n",
      "|    81|  40946|   0.5|\n",
      "|   100|   2268|   4.0|\n",
      "+------+-------+------+\n",
      "only showing top 20 rows\n",
      "\n"
     ]
    },
    {
     "name": "stderr",
     "output_type": "stream",
     "text": [
      "\r",
      "                                                                                \r"
     ]
    }
   ],
   "source": [
    "movie_rating_sample = movie_ratings.sample(False, 1/500)\n",
    "movie_rating_sample.show()"
   ]
  },
  {
   "cell_type": "code",
   "execution_count": null,
   "id": "4eb1acd6",
   "metadata": {},
   "outputs": [],
   "source": []
  }
 ],
 "metadata": {
  "kernelspec": {
   "display_name": "Python 3",
   "language": "python",
   "name": "python3"
  },
  "language_info": {
   "codemirror_mode": {
    "name": "ipython",
    "version": 3
   },
   "file_extension": ".py",
   "mimetype": "text/x-python",
   "name": "python",
   "nbconvert_exporter": "python",
   "pygments_lexer": "ipython3",
   "version": "3.10.6"
  }
 },
 "nbformat": 4,
 "nbformat_minor": 5
}
