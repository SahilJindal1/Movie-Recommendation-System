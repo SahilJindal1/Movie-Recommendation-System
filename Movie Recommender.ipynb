{
 "cells": [
  {
   "cell_type": "code",
   "execution_count": 1,
   "id": "3f46ee9f",
   "metadata": {},
   "outputs": [],
   "source": [
    "from pyspark.sql import SparkSession\n",
    "from pyspark.sql.types import *\n",
    "from pyspark.sql.functions import col, mean, udf, lit, current_timestamp, unix_timestamp, array_contains\n",
    "#from pyspark.sql.types import IntegerType, FloatType\n",
    "\n",
    "import pandas as pd\n",
    "import math\n",
    "import mlflow\n",
    "import os"
   ]
  },
  {
   "cell_type": "code",
   "execution_count": 2,
   "id": "2976532b",
   "metadata": {},
   "outputs": [
    {
     "name": "stdout",
     "output_type": "stream",
     "text": [
      "22/12/03 04:17:47 WARN Utils: Your hostname, avani-HP resolves to a loopback address: 127.0.1.1; using 192.168.0.9 instead (on interface wlo1)\n",
      "22/12/03 04:17:47 WARN Utils: Set SPARK_LOCAL_IP if you need to bind to another address\n",
      "22/12/03 04:17:48 WARN NativeCodeLoader: Unable to load native-hadoop library for your platform... using builtin-java classes where applicable\n"
     ]
    },
    {
     "name": "stderr",
     "output_type": "stream",
     "text": [
      "Setting default log level to \"WARN\".\n",
      "To adjust logging level use sc.setLogLevel(newLevel). For SparkR, use setLogLevel(newLevel).\n"
     ]
    }
   ],
   "source": [
    "# instantiate the Spark session\n",
    "\n",
    "from pyspark.conf import SparkConf\n",
    "\n",
    "sparkConf = SparkConf()\n",
    "sparkConf.setAppName(\"My app\").set(\"spark.jars\", \"/home/avani/UMass/Fall 2022/CS 532/Project/postgresql-42.5.0.jar\")\n",
    "sparkConf.set(\"spark.dynamicAllocation.enabled\", \"true\")\n",
    "sparkConf.set(\"spark.executor.cores\", 8)\n",
    "sparkConf.set(\"spark.dynamicAllocation.minExecutors\",\"1\")\n",
    "sparkConf.set(\"spark.dynamicAllocation.maxExecutors\",\"5000\")\n",
    "sparkConf.set(\"spark.executor.memory\", \"32g\")\n",
    "sparkConf.set(\"spark.ui.port\",\"4050\")\n",
    "sparkConf.set(\"spark.memory.fraction\", 0.7)\n",
    "\n",
    "spark = SparkSession.builder.master('local[*]').config(conf=sparkConf).getOrCreate()"
   ]
  },
  {
   "cell_type": "code",
   "execution_count": 3,
   "id": "eb434531",
   "metadata": {},
   "outputs": [],
   "source": [
    "#tables_list = ['movies', 'ratings', 'tags', 'links', 'genome_tags', 'genome_scores']\n",
    "\n",
    "tables_list = ['movies', 'ratings', 'tags', 'links']\n",
    "\n",
    "dataframeList = {} #defaultdict(None)\n",
    "\n",
    "for table in tables_list:\n",
    "\n",
    "    if table == 'ratings':\n",
    "        dataframeList[table] = spark.read.format(\"jdbc\"). \\\n",
    "                                options(\n",
    "                                 url = 'jdbc:postgresql://localhost:5432/movielens_dataset', # using jdbc:postgresql://<host>:<port>/<database>\n",
    "                                 dbtable = table + \"_new\",\n",
    "                                 user = 'postgres',\n",
    "                                 password = 'postgres',\n",
    "                                 driver = 'org.postgresql.Driver',\n",
    "                                 fetchSize = 1000,\n",
    "                                 partitionColumn = \"userId\",\n",
    "                                 lowerBound = 1,\n",
    "                                 upperBound = 283228,\n",
    "                                 numPartitions = 32).\\\n",
    "                                load()\n",
    "    else:\n",
    "        dataframeList[table] = spark.read.format(\"jdbc\"). \\\n",
    "                                options(\n",
    "                                 url = 'jdbc:postgresql://localhost:5432/movielens_dataset', # using jdbc:postgresql://<host>:<port>/<database>\n",
    "                                 dbtable = table + \"_new\",\n",
    "                                 user = 'postgres',\n",
    "                                 password = 'postgres',\n",
    "                                 driver = 'org.postgresql.Driver').\\\n",
    "                                load()"
   ]
  },
  {
   "cell_type": "code",
   "execution_count": 4,
   "id": "b29c34c7",
   "metadata": {},
   "outputs": [
    {
     "name": "stdout",
     "output_type": "stream",
     "text": [
      "movies table\n",
      "root\n",
      " |-- movieid: integer (nullable = true)\n",
      " |-- title: string (nullable = true)\n",
      " |-- genres: string (nullable = true)\n",
      "\n",
      "None\n",
      "ratings table\n",
      "root\n",
      " |-- userid: integer (nullable = true)\n",
      " |-- movieid: integer (nullable = true)\n",
      " |-- rating: decimal(38,18) (nullable = true)\n",
      " |-- timestamp: integer (nullable = true)\n",
      "\n",
      "None\n",
      "tags table\n",
      "root\n",
      " |-- userid: integer (nullable = true)\n",
      " |-- movieid: integer (nullable = true)\n",
      " |-- tag: string (nullable = true)\n",
      " |-- timestamp: integer (nullable = true)\n",
      "\n",
      "None\n",
      "links table\n",
      "root\n",
      " |-- movieid: integer (nullable = true)\n",
      " |-- imdbid: integer (nullable = true)\n",
      " |-- tmdbid: integer (nullable = true)\n",
      "\n",
      "None\n"
     ]
    }
   ],
   "source": [
    "for key, value in dataframeList.items():\n",
    "    print(key + \" table\")\n",
    "    print(value.printSchema())"
   ]
  },
  {
   "cell_type": "code",
   "execution_count": 5,
   "id": "885f9647",
   "metadata": {},
   "outputs": [],
   "source": [
    "movies_df = dataframeList['movies']\n",
    "ratings_df = dataframeList['ratings']\n",
    "links_df = dataframeList['links']\n",
    "tags_df = dataframeList['tags']"
   ]
  },
  {
   "cell_type": "markdown",
   "id": "89930d87",
   "metadata": {},
   "source": [
    "### Show the dataframes and make the lifetime of dataframes sames as spark session"
   ]
  },
  {
   "cell_type": "code",
   "execution_count": 6,
   "id": "461c67fd",
   "metadata": {},
   "outputs": [
    {
     "name": "stderr",
     "output_type": "stream",
     "text": [
      "\r",
      "[Stage 0:>                                                          (0 + 1) / 1]\r"
     ]
    },
    {
     "name": "stdout",
     "output_type": "stream",
     "text": [
      "+-------+--------------------+--------------------+\n",
      "|movieid|               title|              genres|\n",
      "+-------+--------------------+--------------------+\n",
      "|      1|    Toy Story (1995)|Adventure|Animati...|\n",
      "|      2|      Jumanji (1995)|Adventure|Childre...|\n",
      "|      3|Grumpier Old Men ...|      Comedy|Romance|\n",
      "|      4|Waiting to Exhale...|Comedy|Drama|Romance|\n",
      "|      5|Father of the Bri...|              Comedy|\n",
      "|      6|         Heat (1995)|Action|Crime|Thri...|\n",
      "|      7|      Sabrina (1995)|      Comedy|Romance|\n",
      "|      8| Tom and Huck (1995)|  Adventure|Children|\n",
      "|      9| Sudden Death (1995)|              Action|\n",
      "|     10|    GoldenEye (1995)|Action|Adventure|...|\n",
      "|     11|American Presiden...|Comedy|Drama|Romance|\n",
      "|     12|Dracula: Dead and...|       Comedy|Horror|\n",
      "|     13|        Balto (1995)|Adventure|Animati...|\n",
      "|     14|        Nixon (1995)|               Drama|\n",
      "|     15|Cutthroat Island ...|Action|Adventure|...|\n",
      "|     16|       Casino (1995)|         Crime|Drama|\n",
      "|     17|Sense and Sensibi...|       Drama|Romance|\n",
      "|     18|   Four Rooms (1995)|              Comedy|\n",
      "|     19|Ace Ventura: When...|              Comedy|\n",
      "|     20|  Money Train (1995)|Action|Comedy|Cri...|\n",
      "+-------+--------------------+--------------------+\n",
      "only showing top 20 rows\n",
      "\n"
     ]
    },
    {
     "name": "stderr",
     "output_type": "stream",
     "text": [
      "\r",
      "                                                                                \r"
     ]
    }
   ],
   "source": [
    "movies_df.show(20)\n",
    "movies_df.createOrReplaceTempView(\"movies_df\")"
   ]
  },
  {
   "cell_type": "code",
   "execution_count": 7,
   "id": "d927abde",
   "metadata": {},
   "outputs": [
    {
     "name": "stdout",
     "output_type": "stream",
     "text": [
      "+------+-------+--------------------+---------+\n",
      "|userid|movieid|              rating|timestamp|\n",
      "+------+-------+--------------------+---------+\n",
      "|     1|      1|4.000000000000000000|964982703|\n",
      "|     1|      3|4.000000000000000000|964981247|\n",
      "|     1|      6|4.000000000000000000|964982224|\n",
      "|     1|     47|5.000000000000000000|964983815|\n",
      "|     1|     50|5.000000000000000000|964982931|\n",
      "|     1|     70|3.000000000000000000|964982400|\n",
      "|     1|    101|5.000000000000000000|964980868|\n",
      "|     1|    110|4.000000000000000000|964982176|\n",
      "|     1|    151|5.000000000000000000|964984041|\n",
      "|     1|    157|5.000000000000000000|964984100|\n",
      "|     1|    163|5.000000000000000000|964983650|\n",
      "|     1|    216|5.000000000000000000|964981208|\n",
      "|     1|    223|3.000000000000000000|964980985|\n",
      "|     1|    231|5.000000000000000000|964981179|\n",
      "|     1|    235|4.000000000000000000|964980908|\n",
      "|     1|    260|5.000000000000000000|964981680|\n",
      "|     1|    296|3.000000000000000000|964982967|\n",
      "|     1|    316|3.000000000000000000|964982310|\n",
      "|     1|    333|5.000000000000000000|964981179|\n",
      "|     1|    349|4.000000000000000000|964982563|\n",
      "+------+-------+--------------------+---------+\n",
      "only showing top 20 rows\n",
      "\n"
     ]
    }
   ],
   "source": [
    "ratings_df.show(20)\n",
    "ratings_df.createOrReplaceTempView(\"ratings_df\")"
   ]
  },
  {
   "cell_type": "code",
   "execution_count": 8,
   "id": "7269a5d8",
   "metadata": {},
   "outputs": [
    {
     "name": "stdout",
     "output_type": "stream",
     "text": [
      "+-------+------+------+\n",
      "|movieid|imdbid|tmdbid|\n",
      "+-------+------+------+\n",
      "|      1|114709|   862|\n",
      "|      2|113497|  8844|\n",
      "|      3|113228| 15602|\n",
      "|      4|114885| 31357|\n",
      "|      5|113041| 11862|\n",
      "|      6|113277|   949|\n",
      "|      7|114319| 11860|\n",
      "|      8|112302| 45325|\n",
      "|      9|114576|  9091|\n",
      "|     10|113189|   710|\n",
      "|     11|112346|  9087|\n",
      "|     12|112896| 12110|\n",
      "|     13|112453| 21032|\n",
      "|     14|113987| 10858|\n",
      "|     15|112760|  1408|\n",
      "|     16|112641|   524|\n",
      "|     17|114388|  4584|\n",
      "|     18|113101|     5|\n",
      "|     19|112281|  9273|\n",
      "|     20|113845| 11517|\n",
      "+-------+------+------+\n",
      "only showing top 20 rows\n",
      "\n"
     ]
    }
   ],
   "source": [
    "links_df.show(20)\n",
    "links_df.createOrReplaceTempView(\"links_df\")"
   ]
  },
  {
   "cell_type": "code",
   "execution_count": 9,
   "id": "b31ab98f",
   "metadata": {},
   "outputs": [
    {
     "name": "stdout",
     "output_type": "stream",
     "text": [
      "+------+-------+-----------------+----------+\n",
      "|userid|movieid|              tag| timestamp|\n",
      "+------+-------+-----------------+----------+\n",
      "|     2|  60756|            funny|1445714994|\n",
      "|     2|  60756|  Highly quotable|1445714996|\n",
      "|     2|  60756|     will ferrell|1445714992|\n",
      "|     2|  89774|     Boxing story|1445715207|\n",
      "|     2|  89774|              MMA|1445715200|\n",
      "|     2|  89774|        Tom Hardy|1445715205|\n",
      "|     2| 106782|            drugs|1445715054|\n",
      "|     2| 106782|Leonardo DiCaprio|1445715051|\n",
      "|     2| 106782|  Martin Scorsese|1445715056|\n",
      "|     7|  48516|     way too long|1169687325|\n",
      "|    18|    431|        Al Pacino|1462138765|\n",
      "|    18|    431|         gangster|1462138749|\n",
      "|    18|    431|            mafia|1462138755|\n",
      "|    18|   1221|        Al Pacino|1461699306|\n",
      "|    18|   1221|            Mafia|1461699303|\n",
      "|    18|   5995|        holocaust|1455735472|\n",
      "|    18|   5995|       true story|1455735479|\n",
      "|    18|  44665|     twist ending|1456948283|\n",
      "|    18|  52604|  Anthony Hopkins|1457650696|\n",
      "|    18|  52604|  courtroom drama|1457650711|\n",
      "+------+-------+-----------------+----------+\n",
      "only showing top 20 rows\n",
      "\n"
     ]
    }
   ],
   "source": [
    "tags_df.show(20)\n",
    "tags_df.createOrReplaceTempView(\"tags_df\")"
   ]
  },
  {
   "cell_type": "markdown",
   "id": "d386f6e1",
   "metadata": {},
   "source": [
    "### Registering the dataframes to spark "
   ]
  },
  {
   "cell_type": "code",
   "execution_count": 10,
   "id": "85adb7bb",
   "metadata": {},
   "outputs": [
    {
     "name": "stderr",
     "output_type": "stream",
     "text": [
      "/home/avani/.local/lib/python3.10/site-packages/pyspark/sql/dataframe.py:229: FutureWarning: Deprecated in 2.0, use createOrReplaceTempView instead.\n",
      "  warnings.warn(\"Deprecated in 2.0, use createOrReplaceTempView instead.\", FutureWarning)\n"
     ]
    }
   ],
   "source": [
    "movies_df.registerTempTable(\"movies\")\n",
    "ratings_df.registerTempTable(\"ratings\")\n",
    "links_df.registerTempTable(\"links\")\n",
    "tags_df.registerTempTable(\"tags\")"
   ]
  },
  {
   "cell_type": "markdown",
   "id": "83ee103c",
   "metadata": {},
   "source": [
    "### Analyse the data"
   ]
  },
  {
   "cell_type": "code",
   "execution_count": 11,
   "id": "ae75c29d",
   "metadata": {},
   "outputs": [
    {
     "name": "stderr",
     "output_type": "stream",
     "text": [
      "                                                                                \r"
     ]
    },
    {
     "name": "stdout",
     "output_type": "stream",
     "text": [
      "Minimum number of ratings per user: 20\n",
      "Minimum number of ratings per movie: 1\n"
     ]
    }
   ],
   "source": [
    "minRating_1 = ratings_df.groupBy(\"userID\").count().toPandas()['count'].min()\n",
    "minRating_2 = ratings_df.groupBy(\"movieId\").count().toPandas()['count'].min()\n",
    "\n",
    "print('Minimum number of ratings per user: {}'.format(minRating_1))\n",
    "print('Minimum number of ratings per movie: {}'.format(minRating_2))"
   ]
  },
  {
   "cell_type": "code",
   "execution_count": 12,
   "id": "5e27d73b",
   "metadata": {},
   "outputs": [
    {
     "name": "stdout",
     "output_type": "stream",
     "text": [
      "movies are rated by only one user: 3446 out of 9724 \n"
     ]
    }
   ],
   "source": [
    "_rating1 = sum(ratings_df.groupBy(\"movieId\").count().toPandas()['count'] == 1)\n",
    "_total = ratings_df.select('movieId').distinct().count()\n",
    "\n",
    "print('movies are rated by only one user: {} out of {} '.format(_rating1, _total))"
   ]
  },
  {
   "cell_type": "code",
   "execution_count": 13,
   "id": "3cd8195f",
   "metadata": {},
   "outputs": [
    {
     "data": {
      "text/plain": [
       "610"
      ]
     },
     "execution_count": 13,
     "metadata": {},
     "output_type": "execute_result"
    }
   ],
   "source": [
    "# number of distinct users\n",
    "num_users = spark.sql(\"SELECT count (distinct userID) as num_users FROM ratings\")\n",
    "ratings_df.select(\"userId\").distinct().count()"
   ]
  },
  {
   "cell_type": "code",
   "execution_count": 14,
   "id": "175af2f8",
   "metadata": {},
   "outputs": [
    {
     "name": "stdout",
     "output_type": "stream",
     "text": [
      "9742\n"
     ]
    }
   ],
   "source": [
    "# number of movies\n",
    "num_movies = spark.sql(\"SELECT count (distinct movieID) as num_movies FROM movies\")\n",
    "print(movies_df.select('movieID').distinct().count())"
   ]
  },
  {
   "cell_type": "code",
   "execution_count": 15,
   "id": "0adf4671",
   "metadata": {},
   "outputs": [
    {
     "name": "stdout",
     "output_type": "stream",
     "text": [
      "Total Number of movies rated by users: 9724\n"
     ]
    }
   ],
   "source": [
    "rated_by_users = ratings_df.select('movieID').distinct().count()\n",
    "print('Total Number of movies rated by users:', rated_by_users)"
   ]
  },
  {
   "cell_type": "code",
   "execution_count": 16,
   "id": "0d0a78ab",
   "metadata": {},
   "outputs": [
    {
     "name": "stdout",
     "output_type": "stream",
     "text": [
      "+--------------------+\n",
      "|              genres|\n",
      "+--------------------+\n",
      "|Comedy|Horror|Thr...|\n",
      "|Adventure|Sci-Fi|...|\n",
      "|Action|Adventure|...|\n",
      "| Action|Drama|Horror|\n",
      "|Action|Animation|...|\n",
      "|Animation|Childre...|\n",
      "|Action|Adventure|...|\n",
      "|    Adventure|Sci-Fi|\n",
      "|Documentary|Music...|\n",
      "|Adventure|Childre...|\n",
      "+--------------------+\n",
      "\n"
     ]
    }
   ],
   "source": [
    "# movie genres\n",
    "spark.sql(\"SELECT DISTINCT(genres) FROM movies LIMIT 10\").show()"
   ]
  },
  {
   "cell_type": "code",
   "execution_count": 17,
   "id": "c79f9698",
   "metadata": {},
   "outputs": [
    {
     "data": {
      "text/plain": [
       "DataFrame[movieId: int, title: string, genres: array<string>]"
      ]
     },
     "metadata": {},
     "output_type": "display_data"
    }
   ],
   "source": [
    "extract_genres = udf(lambda x: x.split(\"|\"), ArrayType(StringType()))\n",
    "movies_df_clean = movies_df.select(\"movieId\", \"title\", extract_genres(\"genres\").alias(\"genres\"))\n",
    "\n",
    "movies_df_clean.createOrReplaceTempView(\"movies_df_clean\")\n",
    "\n",
    "display (spark.sql(\"SELECT * FROM movies_df_clean limit 5\"))"
   ]
  },
  {
   "cell_type": "code",
   "execution_count": 18,
   "id": "83c70eb3",
   "metadata": {},
   "outputs": [
    {
     "name": "stdout",
     "output_type": "stream",
     "text": [
      "+-------+--------------------+--------------------+\n",
      "|movieId|               title|              genres|\n",
      "+-------+--------------------+--------------------+\n",
      "|      1|    Toy Story (1995)|[Adventure, Anima...|\n",
      "|      2|      Jumanji (1995)|[Adventure, Child...|\n",
      "|      3|Grumpier Old Men ...|   [Comedy, Romance]|\n",
      "|      4|Waiting to Exhale...|[Comedy, Drama, R...|\n",
      "|      5|Father of the Bri...|            [Comedy]|\n",
      "+-------+--------------------+--------------------+\n",
      "only showing top 5 rows\n",
      "\n"
     ]
    }
   ],
   "source": [
    "movies_df_clean.show(5)"
   ]
  },
  {
   "cell_type": "code",
   "execution_count": 19,
   "id": "5549a27c",
   "metadata": {},
   "outputs": [
    {
     "name": "stderr",
     "output_type": "stream",
     "text": [
      "\r",
      "[Stage 41:>                                                         (0 + 1) / 1]\r",
      "\r",
      "                                                                                \r"
     ]
    },
    {
     "data": {
      "text/plain": [
       "['IMAX',\n",
       " 'War',\n",
       " 'Drama',\n",
       " 'Action',\n",
       " 'Crime',\n",
       " 'Film-Noir',\n",
       " 'Western',\n",
       " 'Fantasy',\n",
       " 'Documentary',\n",
       " 'Sci-Fi',\n",
       " 'Musical',\n",
       " 'Thriller',\n",
       " 'Comedy',\n",
       " '(no genres listed)',\n",
       " 'Animation',\n",
       " 'Mystery',\n",
       " 'Adventure',\n",
       " 'Children',\n",
       " 'Horror',\n",
       " 'Romance']"
      ]
     },
     "execution_count": 19,
     "metadata": {},
     "output_type": "execute_result"
    }
   ],
   "source": [
    "# All movie categories\n",
    "genres_result = list(set(movies_df_clean.select('genres').rdd.flatMap(tuple).flatMap(tuple).collect()))\n",
    "genres_result"
   ]
  },
  {
   "cell_type": "code",
   "execution_count": 20,
   "id": "733e9135",
   "metadata": {},
   "outputs": [],
   "source": [
    "movie_pdf = movies_df.toPandas()\n",
    "list_of_movie = list(movie_pdf['title'])"
   ]
  },
  {
   "cell_type": "markdown",
   "id": "469c1010",
   "metadata": {},
   "source": [
    "## Recommender"
   ]
  },
  {
   "cell_type": "code",
   "execution_count": 21,
   "id": "78a2975e",
   "metadata": {},
   "outputs": [],
   "source": [
    "# Data type convert\n",
    "movie_ratings = ratings_df.drop('timestamp')\n",
    "\n",
    "movie_ratings = movie_ratings.withColumn(\"userId\", movie_ratings[\"userId\"].cast(IntegerType()))\n",
    "movie_ratings = movie_ratings.withColumn(\"movieId\", movie_ratings[\"movieId\"].cast(IntegerType()))\n",
    "movie_ratings = movie_ratings.withColumn(\"rating\", movie_ratings[\"rating\"].cast(FloatType()))"
   ]
  },
  {
   "cell_type": "code",
   "execution_count": 22,
   "id": "2daab5b6",
   "metadata": {},
   "outputs": [
    {
     "name": "stdout",
     "output_type": "stream",
     "text": [
      "+------+-------+------+\n",
      "|userId|movieId|rating|\n",
      "+------+-------+------+\n",
      "|     1|      1|   4.0|\n",
      "|     1|      3|   4.0|\n",
      "|     1|      6|   4.0|\n",
      "|     1|     47|   5.0|\n",
      "|     1|     50|   5.0|\n",
      "|     1|     70|   3.0|\n",
      "|     1|    101|   5.0|\n",
      "|     1|    110|   4.0|\n",
      "|     1|    151|   5.0|\n",
      "|     1|    157|   5.0|\n",
      "|     1|    163|   5.0|\n",
      "|     1|    216|   5.0|\n",
      "|     1|    223|   3.0|\n",
      "|     1|    231|   5.0|\n",
      "|     1|    235|   4.0|\n",
      "|     1|    260|   5.0|\n",
      "|     1|    296|   3.0|\n",
      "|     1|    316|   3.0|\n",
      "|     1|    333|   5.0|\n",
      "|     1|    349|   4.0|\n",
      "+------+-------+------+\n",
      "only showing top 20 rows\n",
      "\n"
     ]
    },
    {
     "data": {
      "text/plain": [
       "DataFrame[userId: int, movieId: int, rating: float]"
      ]
     },
     "metadata": {},
     "output_type": "display_data"
    }
   ],
   "source": [
    "movie_ratings.show(20)\n",
    "movie_ratings.createOrReplaceTempView(\"movie_ratings\")\n",
    "display (spark.sql(\"SELECT * FROM movie_ratings limit 10\"))"
   ]
  },
  {
   "cell_type": "code",
   "execution_count": 23,
   "id": "bf767010",
   "metadata": {},
   "outputs": [
    {
     "name": "stdout",
     "output_type": "stream",
     "text": [
      "+------+-------+------+\n",
      "|userId|movieId|rating|\n",
      "+------+-------+------+\n",
      "|     6|    378|   3.0|\n",
      "|     6|    667|   3.0|\n",
      "|    21|  59369|   3.0|\n",
      "|    23|    334|   4.0|\n",
      "|    28|   2706|   3.0|\n",
      "|    28|  33166|   2.0|\n",
      "|    28|  34405|   4.5|\n",
      "|    33|      7|   1.0|\n",
      "|    37|    661|   3.0|\n",
      "|    42|    415|   2.0|\n",
      "|    42|   1667|   2.0|\n",
      "|    42|   2352|   4.0|\n",
      "|    45|   2762|   5.0|\n",
      "|    51|    858|   3.5|\n",
      "|    64|     25|   3.5|\n",
      "|    66|     18|   4.0|\n",
      "|    68|   1884|   2.5|\n",
      "|    68|   5419|   4.5|\n",
      "|    68|  55232|   3.0|\n",
      "|    73|  58047|   4.5|\n",
      "+------+-------+------+\n",
      "only showing top 20 rows\n",
      "\n"
     ]
    }
   ],
   "source": [
    "movie_rating_sample = movie_ratings.sample(False, 1/500)\n",
    "movie_rating_sample.show()"
   ]
  },
  {
   "cell_type": "code",
   "execution_count": 24,
   "id": "68bf1617",
   "metadata": {},
   "outputs": [],
   "source": [
    "from pyspark.ml.evaluation import RegressionEvaluator\n",
    "from pyspark.ml.recommendation import ALS\n",
    "from pyspark.ml.tuning import ParamGridBuilder, CrossValidator"
   ]
  },
  {
   "cell_type": "code",
   "execution_count": 31,
   "id": "4ac0d674",
   "metadata": {},
   "outputs": [],
   "source": [
    "# Create ALS model\n",
    "\n",
    "als = ALS(\n",
    "         userCol=\"userId\", \n",
    "         itemCol=\"movieId\",\n",
    "         ratingCol=\"rating\", \n",
    "         nonnegative = True, \n",
    "         implicitPrefs = False,\n",
    "         coldStartStrategy=\"drop\"\n",
    ")"
   ]
  },
  {
   "cell_type": "code",
   "execution_count": 32,
   "id": "ebbd91e3",
   "metadata": {},
   "outputs": [],
   "source": [
    "(trainData, testData) = movie_ratings.randomSplit([0.8,0.2])"
   ]
  },
  {
   "cell_type": "code",
   "execution_count": 37,
   "id": "5bc84d91",
   "metadata": {},
   "outputs": [
    {
     "name": "stderr",
     "output_type": "stream",
     "text": [
      "\r",
      "[Stage 3484:>              (0 + 8) / 10][Stage 3527:>              (0 + 0) / 10]\r"
     ]
    }
   ],
   "source": [
    "paramGrid = ParamGridBuilder() \\\n",
    "            .addGrid(als.rank, [10, 50, 100, 150]) \\\n",
    "            .addGrid(als.regParam, [.01, .05, .1, .15]) \\\n",
    "            .addGrid(als.maxIter, [15]) \\\n",
    "            .build()"
   ]
  },
  {
   "cell_type": "code",
   "execution_count": 38,
   "id": "447b6328",
   "metadata": {},
   "outputs": [
    {
     "name": "stdout",
     "output_type": "stream",
     "text": [
      "Num models to be tested:  16\n"
     ]
    },
    {
     "name": "stderr",
     "output_type": "stream",
     "text": [
      "[Stage 3485:>              (0 + 8) / 10][Stage 3530:============>  (8 + 0) / 10]\r"
     ]
    }
   ],
   "source": [
    "evaluator = RegressionEvaluator(\n",
    "               metricName=\"rmse\", \n",
    "               labelCol=\"rating\", \n",
    "               predictionCol=\"prediction\")\n",
    "\n",
    "print (\"Num models to be tested: \", len(paramGrid))"
   ]
  },
  {
   "cell_type": "code",
   "execution_count": 39,
   "id": "5c662b28",
   "metadata": {},
   "outputs": [],
   "source": [
    "# Build cross validation using CrossValidator\n",
    "cv = CrossValidator(estimator=als, estimatorParamMaps=paramGrid, evaluator=evaluator, numFolds=5)"
   ]
  },
  {
   "cell_type": "code",
   "execution_count": 40,
   "id": "91889af5",
   "metadata": {},
   "outputs": [
    {
     "name": "stdout",
     "output_type": "stream",
     "text": [
      "22/12/03 04:21:57 WARN CacheManager: Asked to cache already cached data.\n",
      "22/12/03 04:21:57 WARN CacheManager: Asked to cache already cached data.\n"
     ]
    },
    {
     "name": "stderr",
     "output_type": "stream",
     "text": [
      "                                                                                \r"
     ]
    }
   ],
   "source": [
    "cvModel = cv.fit(trainData)"
   ]
  },
  {
   "cell_type": "code",
   "execution_count": 41,
   "id": "af08d639",
   "metadata": {},
   "outputs": [
    {
     "name": "stderr",
     "output_type": "stream",
     "text": [
      "                                                                                \r"
     ]
    },
    {
     "name": "stdout",
     "output_type": "stream",
     "text": [
      "0.8711823065385077\n"
     ]
    }
   ],
   "source": [
    "bestALSModel = cvModel.bestModel\n",
    "\n",
    "testPredictions = bestALSModel.transform(testData)\n",
    "\n",
    "rmse = evaluator.evaluate(testPredictions)\n",
    "\n",
    "print(rmse)"
   ]
  },
  {
   "cell_type": "code",
   "execution_count": 42,
   "id": "835de6e2",
   "metadata": {},
   "outputs": [
    {
     "name": "stdout",
     "output_type": "stream",
     "text": [
      "Best Model Parameters\n",
      "Rank:  50\n",
      "MaxIter:  15\n",
      "RegParam: 0.15\n"
     ]
    }
   ],
   "source": [
    "print (\"Best Model Parameters\")\n",
    "print (\"Rank: \", bestALSModel._java_obj.parent().getRank())\n",
    "print (\"MaxIter: \", str(bestALSModel._java_obj.parent().getMaxIter()))\n",
    "print (\"RegParam:\",  bestALSModel._java_obj.parent().getRegParam())"
   ]
  },
  {
   "cell_type": "code",
   "execution_count": null,
   "id": "aa832ede",
   "metadata": {},
   "outputs": [],
   "source": []
  }
 ],
 "metadata": {
  "kernelspec": {
   "display_name": "Python 3",
   "language": "python",
   "name": "python3"
  },
  "language_info": {
   "codemirror_mode": {
    "name": "ipython",
    "version": 3
   },
   "file_extension": ".py",
   "mimetype": "text/x-python",
   "name": "python",
   "nbconvert_exporter": "python",
   "pygments_lexer": "ipython3",
   "version": "3.10.6"
  }
 },
 "nbformat": 4,
 "nbformat_minor": 5
}
